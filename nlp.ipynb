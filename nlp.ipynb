{
  "nbformat": 4,
  "nbformat_minor": 0,
  "metadata": {
    "colab": {
      "name": "nlp.ipynb",
      "provenance": []
    },
    "kernelspec": {
      "name": "python3",
      "display_name": "Python 3"
    },
    "language_info": {
      "name": "python"
    }
  },
  "cells": [
    {
      "cell_type": "code",
      "source": [
        "# !pip install -U \n",
        "# !pip setuptools wheel\n",
        "# !pip install -U spacypython -m spacy download en_core_web_trf"
      ],
      "metadata": {
        "id": "J7voIB2j6qOJ"
      },
      "execution_count": null,
      "outputs": []
    },
    {
      "cell_type": "code",
      "execution_count": null,
      "metadata": {
        "id": "FkQqAR_iOl6m"
      },
      "outputs": [],
      "source": [
        "import spacy"
      ]
    },
    {
      "cell_type": "code",
      "source": [
        "import numpy as np\n",
        "import pandas as pd\n",
        "import seaborn as sns\n",
        "import matplotlib as plt"
      ],
      "metadata": {
        "id": "DGuYQlLDSMJK"
      },
      "execution_count": null,
      "outputs": []
    },
    {
      "cell_type": "code",
      "source": [
        "dataset = pd.read_csv(\"/content/Language Detection.csv\")"
      ],
      "metadata": {
        "id": "3WRsUJ0IJ7eV"
      },
      "execution_count": null,
      "outputs": []
    },
    {
      "cell_type": "code",
      "source": [
        "#PREPROCESSING 2.0\n",
        "#remove wiki links such as [*num]. We will uses regex\n",
        "import re\n",
        "\n",
        "dataset[\"Text\"] = dataset[\"Text\"].map(lambda x: re.sub(\"[\\[].*?[\\]]\", \"\", x))\n",
        "dataset.dropna(subset = [\"Text\"], inplace = True)"
      ],
      "metadata": {
        "id": "p6yQXVMPYSxa"
      },
      "execution_count": null,
      "outputs": []
    },
    {
      "cell_type": "code",
      "source": [
        "y = dataset.drop([\"Text\"], axis = 1)\n",
        "X = dataset.drop([\"Language\"], axis = 1)"
      ],
      "metadata": {
        "id": "v2jKkHmPpRn8"
      },
      "execution_count": null,
      "outputs": []
    },
    {
      "cell_type": "code",
      "source": [
        "#encode languages\n",
        "from sklearn.preprocessing import OrdinalEncoder\n",
        "\n",
        "enc = OrdinalEncoder(handle_unknown='error')\n",
        "\n",
        "y_transformed = enc.fit_transform(y)"
      ],
      "metadata": {
        "id": "oLnK1bW6PztA"
      },
      "execution_count": null,
      "outputs": []
    },
    {
      "cell_type": "code",
      "source": [
        "from sklearn.feature_extraction.text import HashingVectorizer\n",
        "\n",
        "vectorizer = HashingVectorizer(n_features = 2**17)\n",
        "# X_transformed = vectorizer.fit_transform(vectorizer.decode(X))\n",
        "# X_tf= X_transformed.toarray()\n",
        "X_tf = vectorizer.fit_transform(X[\"Text\"].values)\n",
        "# the size is to large\n",
        "X_tf = X_tf.todense()"
      ],
      "metadata": {
        "id": "G_gKCpTgXhOn"
      },
      "execution_count": null,
      "outputs": []
    },
    {
      "cell_type": "code",
      "source": [
        "from sklearn.preprocessing import MinMaxScaler"
      ],
      "metadata": {
        "id": "4VltFA7enDno"
      },
      "execution_count": null,
      "outputs": []
    },
    {
      "cell_type": "code",
      "source": [
        "scaler = MinMaxScaler()\n",
        "X_tf = scaler.fit_transform(X_tf)\n",
        "\n",
        "print(X_tf[37]<0)"
      ],
      "metadata": {
        "colab": {
          "base_uri": "https://localhost:8080/"
        },
        "id": "XsKPvAK6bc3N",
        "outputId": "3c065eed-0983-472c-b966-c57f5fa547ab"
      },
      "execution_count": null,
      "outputs": [
        {
          "output_type": "stream",
          "name": "stdout",
          "text": [
            "[False False False ... False False False]\n"
          ]
        }
      ]
    },
    {
      "cell_type": "code",
      "source": [
        "from sklearn.model_selection import train_test_split\n",
        "from sklearn.naive_bayes import MultinomialNB\n",
        "from sklearn.metrics import f1_score\n",
        "\n",
        "model = MultinomialNB()\n",
        "X_train, X_test, y_train, y_test = train_test_split(X_tf, y_transformed, test_size=0.3)   \n",
        "\n",
        "model.fit(X_train, y_train)\n",
        "\n",
        "predictions = model.predict(X_test)\n",
        "accuracy = (predictions, y_test)\n",
        "print(accuracy)\n",
        "# model.predict()  #your file"
      ],
      "metadata": {
        "id": "RO2dooqOQaKt"
      },
      "execution_count": null,
      "outputs": []
    },
    {
      "cell_type": "code",
      "source": [
        "text_to_check = open(\"/content/test.txt\", \"r\")\n",
        "print(text_to_check)\n",
        "text_to_check = vectorizer.fit_transform(text_to_check)\n",
        "text_to_check = text_to_check.todense()\n",
        "text_to_check = scaler.fit_transform(text_to_check)\n",
        "model.predict(text_to_check)"
      ],
      "metadata": {
        "colab": {
          "base_uri": "https://localhost:8080/"
        },
        "id": "MhHWYhNGoRsO",
        "outputId": "6d7d7d87-1336-4165-cc6f-021e39274c43"
      },
      "execution_count": null,
      "outputs": [
        {
          "output_type": "stream",
          "name": "stdout",
          "text": [
            "<_io.TextIOWrapper name='/content/test.txt' mode='r' encoding='UTF-8'>\n"
          ]
        },
        {
          "output_type": "stream",
          "name": "stderr",
          "text": [
            "/usr/local/lib/python3.7/dist-packages/sklearn/utils/validation.py:598: FutureWarning: np.matrix usage is deprecated in 1.0 and will raise a TypeError in 1.2. Please convert to a numpy array with np.asarray. For more information see: https://numpy.org/doc/stable/reference/generated/numpy.matrix.html\n",
            "  FutureWarning,\n",
            "/usr/local/lib/python3.7/dist-packages/sklearn/utils/validation.py:598: FutureWarning: np.matrix usage is deprecated in 1.0 and will raise a TypeError in 1.2. Please convert to a numpy array with np.asarray. For more information see: https://numpy.org/doc/stable/reference/generated/numpy.matrix.html\n",
            "  FutureWarning,\n"
          ]
        },
        {
          "output_type": "execute_result",
          "data": {
            "text/plain": [
              "array([0.])"
            ]
          },
          "metadata": {},
          "execution_count": 32
        }
      ]
    }
  ]
}